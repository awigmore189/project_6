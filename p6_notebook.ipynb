{
 "cells": [
  {
   "cell_type": "markdown",
   "metadata": {},
   "source": [
    "# Project 6: IMDB\n",
    "\n",
    "This project involves NLP, decision trees, bagging, boosting, and more!\n",
    "\n",
    "---"
   ]
  },
  {
   "cell_type": "markdown",
   "metadata": {},
   "source": [
    "## Load packages\n",
    "\n",
    "You are likely going to need to install the `imdbpie` package:\n",
    "\n",
    "    > pip install imdbpie\n",
    "\n",
    "---"
   ]
  },
  {
   "cell_type": "code",
   "execution_count": 2,
   "metadata": {
    "collapsed": false
   },
   "outputs": [],
   "source": [
    "import os\n",
    "import subprocess\n",
    "import collections\n",
    "import re\n",
    "import csv\n",
    "import json\n",
    "\n",
    "import pandas as pd\n",
    "import numpy as np\n",
    "import scipy\n",
    "\n",
    "from sklearn.ensemble import RandomForestClassifier\n",
    "from sklearn.ensemble import RandomForestRegressor\n",
    "from sklearn.feature_extraction.text import TfidfVectorizer\n",
    "from sklearn.tree import DecisionTreeClassifier, DecisionTreeRegressor\n",
    "from sklearn.cross_validation import cross_val_score, train_test_split\n",
    "from sklearn.metrics import accuracy_score\n",
    "from sklearn.grid_search import GridSearchCV\n",
    "\n",
    "import psycopg2\n",
    "from sqlalchemy import create_engine\n",
    "import requests\n",
    "from imdbpie import Imdb\n",
    "import nltk\n",
    "\n",
    "import matplotlib.pyplot as plt\n",
    "%matplotlib inline\n",
    "import seaborn as sns"
   ]
  },
  {
   "cell_type": "markdown",
   "metadata": {},
   "source": [
    "---\n",
    "\n",
    "## Part 1: Acquire the Data\n",
    "\n",
    "You will connect to the IMDB API to query for movies. \n",
    "\n",
    "See here for documentation on how to use the package:\n",
    "\n",
    "https://github.com/richardasaurus/imdb-pie"
   ]
  },
  {
   "cell_type": "markdown",
   "metadata": {},
   "source": [
    "#### 1. Connect to the IMDB API"
   ]
  },
  {
   "cell_type": "code",
   "execution_count": 2,
   "metadata": {
    "collapsed": true
   },
   "outputs": [],
   "source": [
    "imdb = Imdb()\n",
    "imdb = Imdb(anonymize=True)\n",
    "top_250 = pd.DataFrame(imdb.top_250())"
   ]
  },
  {
   "cell_type": "markdown",
   "metadata": {},
   "source": [
    "#### 2. Query the top 250 rated movies in the database"
   ]
  },
  {
   "cell_type": "code",
   "execution_count": null,
   "metadata": {
    "collapsed": false
   },
   "outputs": [],
   "source": [
    "top_250 = top_250.sort_values(by='rating', ascending=False)"
   ]
  },
  {
   "cell_type": "markdown",
   "metadata": {},
   "source": [
    "#### 3. Make a dataframe from the movie data\n",
    "\n",
    "Keep the fields:\n",
    "\n",
    "    num_votes\n",
    "    rating\n",
    "    tconst\n",
    "    title\n",
    "    year\n",
    "    \n",
    "And discard the rest"
   ]
  },
  {
   "cell_type": "code",
   "execution_count": null,
   "metadata": {
    "collapsed": false,
    "scrolled": true
   },
   "outputs": [],
   "source": [
    "mask = ['num_votes', 'rating', 'tconst', 'title', 'year']\n",
    "top_100 = top_100[mask]\n",
    "top_250 = top_250.sort_values(by='rating', ascending=False)"
   ]
  },
  {
   "cell_type": "markdown",
   "metadata": {},
   "source": [
    "#### 3. Select only the top 100 movies"
   ]
  },
  {
   "cell_type": "code",
   "execution_count": null,
   "metadata": {
    "collapsed": true
   },
   "outputs": [],
   "source": [
    "top_100 = top_250[0:100]"
   ]
  },
  {
   "cell_type": "markdown",
   "metadata": {},
   "source": [
    "#### 4. Get the genres and runtime for each movie and add them to the dataframe\n",
    "\n",
    "There can be multiple genres per movie, so this will need some finessing."
   ]
  },
  {
   "cell_type": "code",
   "execution_count": null,
   "metadata": {
    "collapsed": false,
    "scrolled": true
   },
   "outputs": [],
   "source": [
    "top_100\n",
    "movie_list = top_100['tconst']\n",
    "\n",
    "def get_genre_runtime(b):\n",
    "    genres = []\n",
    "    runtime = []\n",
    "    for i in b:\n",
    "        request = requests.get('http://www.omdbapi.com/?i='+i+'&plot=short&r=json')\n",
    "        r = request.json()\n",
    "        genres.append(r['Genre'])\n",
    "        runtime.append(r['Runtime'])\n",
    "    answer =  pd.DataFrame({'genre':genres, 'runtime':runtime, 'tconst':movie_list})\n",
    "    return answer\n",
    "\n",
    "df = get_genre_runtime(movie_list)\n",
    "\n",
    "# formatting data\n",
    "df['runtime'] = df['runtime'].apply(lambda x: x.strip(' min'))\n",
    "df['runtime'] = pd.to_numeric(df['runtime'])\n",
    "\n",
    "# removing multiple genre names\n",
    "def after_stripper(a):\n",
    "    head, sep, tail = a.partition(',')\n",
    "    return head\n",
    "\n",
    "df['genre'] = df['genre'].apply(lambda x: after_stripper(x))\n",
    "\n",
    "# merging values\n",
    "df.reset_index(drop=True)\n",
    "top_100.reset_index(drop=True)\n",
    "\n"
   ]
  },
  {
   "cell_type": "markdown",
   "metadata": {},
   "source": [
    "#### 4. Write the Results to a csv"
   ]
  },
  {
   "cell_type": "code",
   "execution_count": null,
   "metadata": {
    "collapsed": false
   },
   "outputs": [],
   "source": [
    "top_100_clean = pd.merge(top_100, df)\n",
    "top_100_clean.to_csv('top_100.csv', encoding = 'utf-8', index=False)"
   ]
  },
  {
   "cell_type": "markdown",
   "metadata": {},
   "source": [
    "---\n",
    "\n",
    "## Part 2: Wrangle the text data"
   ]
  },
  {
   "cell_type": "markdown",
   "metadata": {},
   "source": [
    "#### 1. Scrape the reviews for the top 100 movies"
   ]
  },
  {
   "cell_type": "markdown",
   "metadata": {},
   "source": [
    "NOTE - unable to do scraping, got reviews from the omdb api instead"
   ]
  },
  {
   "cell_type": "code",
   "execution_count": null,
   "metadata": {
    "collapsed": false,
    "scrolled": true
   },
   "outputs": [],
   "source": [
    "#read in product of above code from .csv for time and such\n"
   ]
  },
  {
   "cell_type": "markdown",
   "metadata": {},
   "source": [
    "#### 2. Extract the reviews and the rating per review for each movie\n",
    "\n",
    "*Note*: read in from omdb api "
   ]
  },
  {
   "cell_type": "code",
   "execution_count": null,
   "metadata": {
    "collapsed": false
   },
   "outputs": [],
   "source": [
    "movie_list = pd.read_csv('top_100.csv')\n",
    "movie_list = movie_list['tconst']\n",
    "\n",
    "review_list = []\n",
    "for i in movie_list:\n",
    "    x = imdb.get_title_reviews(i, max_results=10000)\n",
    "    review_list.append(x)\n",
    "    print i\n",
    "\n",
    "\n",
    "master_reviews = []\n",
    "counter = 0\n",
    "for i in review_list:\n",
    "    imdb_value = movie_list[counter]\n",
    "    for j in i:\n",
    "        text = j.text\n",
    "        score = j.rating\n",
    "        master_reviews.append({'imdb_value':imdb_value, 'text':text, 'user_movie_score':score})\n",
    "    counter +=1\n",
    "\n"
   ]
  },
  {
   "cell_type": "markdown",
   "metadata": {},
   "source": [
    "#### 3. Remove the non AlphaNumeric characters from reviews"
   ]
  },
  {
   "cell_type": "code",
   "execution_count": null,
   "metadata": {
    "collapsed": false
   },
   "outputs": [],
   "source": [
    "len(master_reviews)\n",
    "master_reviews = pd.DataFrame(master_reviews)\n",
    "master_reviews['text'] = master_reviews['text'].apply(lambda x: re.sub(r'\\W+', ' ', x))\n",
    "master_reviews.dropna(inplace=True)\n",
    "master_reviews.to_csv('reviews.csv', encoding = 'utf-8', index=False)"
   ]
  },
  {
   "cell_type": "markdown",
   "metadata": {},
   "source": [
    "#### 4. Calculate the top 200 ngrams from the user reviews\n",
    "\n",
    "Use the `TfidfVectorizer` in sklearn.\n",
    "\n",
    "Recommended parameters:\n",
    "\n",
    "    ngram_range = (1, 2)\n",
    "    stop_words = 'english'\n",
    "    binary = False\n",
    "    max_features = 200"
   ]
  },
  {
   "cell_type": "code",
   "execution_count": 1,
   "metadata": {
    "collapsed": false
   },
   "outputs": [],
   "source": [
    "# reading in file from csv to not repeat the lengthy code above\n",
    "reviews_final = pd.read_csv('reviews.csv')\n",
    "\n",
    "vectorizer = TfidfVectorizer(ngram_range = (1, 2), stop_words = 'english',\n",
    "                                binary = False, max_features = 200)"
   ]
  },
  {
   "cell_type": "markdown",
   "metadata": {},
   "source": [
    "## Bonusish "
   ]
  },
  {
   "cell_type": "markdown",
   "metadata": {},
   "source": [
    "### stemmed reviews in an attempt to get a better accuracy scor"
   ]
  },
  {
   "cell_type": "code",
   "execution_count": null,
   "metadata": {
    "collapsed": true
   },
   "outputs": [],
   "source": [
    "from nltk import word_tokenize\n",
    "from nltk.stem.porter import PorterStemmer\n",
    "\n",
    "# based on http://www.cs.duke.edu/courses/spring14/compsci290/assignments/lab02.html\n",
    "# and http://stackoverflow.com/questions/26126442/combining-text-stemming-and-removal-of-punctuation-in-nltk-and-scikit-learn\n",
    "# stemmer that iterates over all elements of a tokenized list\n",
    "stemmer = PorterStemmer()\n",
    "def stem_tokens(tokens, stemmer):\n",
    "    stemmed = []\n",
    "    for item in tokens:\n",
    "        stemmed.append(stemmer.stem(item))\n",
    "    return stemmed\n",
    "\n",
    "# incorporates above stemmer with a tokenizer function\n",
    "def tokenize(text):\n",
    "    tokens = word_tokenize(text)\n",
    "    stems = stem_tokens(tokens, stemmer)\n",
    "    return stems\n",
    "\n",
    "# instantiating vectorizer with above tokenizer/stemmer\n",
    "vectorizer2 = TfidfVectorizer(tokenizer=tokenize, ngram_range = (1, 2), stop_words = 'english',\n",
    "                                binary = False, max_features = 200)\n",
    "\n",
    "vectorizer2.fit(tester['text'])\n",
    "dense_matrix2 = pd.DataFrame(vectorizer2.transform(tester['text']).todense(), columns=vectorizer2.get_feature_names())\n"
   ]
  },
  {
   "cell_type": "markdown",
   "metadata": {},
   "source": [
    "#### 5. Merge the user reviews and ratings"
   ]
  },
  {
   "cell_type": "code",
   "execution_count": null,
   "metadata": {
    "collapsed": false
   },
   "outputs": [],
   "source": [
    "tester = tester.join(dense_matrix2)"
   ]
  },
  {
   "cell_type": "markdown",
   "metadata": {},
   "source": [
    "#### 6. Save this merged dataframe as a csv"
   ]
  },
  {
   "cell_type": "code",
   "execution_count": null,
   "metadata": {
    "collapsed": true
   },
   "outputs": [],
   "source": [
    "tester.to_csv('reviews_stemmed.csv', encoding = 'utf-8', index=False)"
   ]
  },
  {
   "cell_type": "markdown",
   "metadata": {},
   "source": [
    "---\n",
    "\n",
    "## Part 3: Combine Tables in PostgreSQL"
   ]
  },
  {
   "cell_type": "markdown",
   "metadata": {},
   "source": [
    "NOTE: did not read into sql, just wrote to a csv... had trouble connecting \n",
    "initially and I wanted to move on"
   ]
  },
  {
   "cell_type": "markdown",
   "metadata": {},
   "source": [
    "#### 1. Reading in complete dataframes anding merging into a single table\n"
   ]
  },
  {
   "cell_type": "code",
   "execution_count": 6,
   "metadata": {
    "collapsed": false,
    "scrolled": true
   },
   "outputs": [],
   "source": [
    "stemmed_reviews = pd.read_csv('reviews_stemmed.csv')\n",
    "reviews = pd.read_csv('reviews_final.csv')\n",
    "movies = pd.read_csv('top_100.csv')\n",
    "\n",
    "# merging reviews with top_100 data in 2 separate dataframes\n",
    "stemmed_full = pd.merge(left=stemmed_reviews, right=movies, how='left', left_on='imdb_value',right_on='tconst')\n",
    "reviews_full = pd.merge(left=reviews, right=movies, how='left', left_on='imdb_value',right_on='tconst')"
   ]
  },
  {
   "cell_type": "markdown",
   "metadata": {},
   "source": [
    "---\n",
    "\n",
    "## Part 4: Parsing and Exploratory Data Analysis"
   ]
  },
  {
   "cell_type": "markdown",
   "metadata": {},
   "source": [
    "#### 1. Rename any columns you think should be renamed for clarity"
   ]
  },
  {
   "cell_type": "code",
   "execution_count": 7,
   "metadata": {
    "collapsed": false
   },
   "outputs": [
    {
     "data": {
      "text/plain": [
       "0        tt0111161\n",
       "1        tt0111161\n",
       "2        tt0111161\n",
       "3        tt0111161\n",
       "4        tt0111161\n",
       "5        tt0111161\n",
       "6        tt0111161\n",
       "7        tt0111161\n",
       "8        tt0111161\n",
       "9        tt0111161\n",
       "10       tt0111161\n",
       "11       tt0111161\n",
       "12       tt0111161\n",
       "13       tt0111161\n",
       "14       tt0111161\n",
       "15       tt0111161\n",
       "16       tt0111161\n",
       "17       tt0111161\n",
       "18       tt0111161\n",
       "19       tt0111161\n",
       "20       tt0111161\n",
       "21       tt0111161\n",
       "22       tt0111161\n",
       "23       tt0111161\n",
       "24       tt0111161\n",
       "25       tt0111161\n",
       "26       tt0111161\n",
       "27       tt0111161\n",
       "28       tt0111161\n",
       "29       tt0111161\n",
       "           ...    \n",
       "93219    tt0055031\n",
       "93220    tt0055031\n",
       "93221    tt0055031\n",
       "93222    tt0055031\n",
       "93223    tt0055031\n",
       "93224    tt0055031\n",
       "93225    tt0055031\n",
       "93226    tt0055031\n",
       "93227    tt0055031\n",
       "93228    tt0055031\n",
       "93229    tt0055031\n",
       "93230    tt0055031\n",
       "93231    tt0055031\n",
       "93232    tt0055031\n",
       "93233    tt0055031\n",
       "93234    tt0055031\n",
       "93235    tt0055031\n",
       "93236    tt0055031\n",
       "93237    tt0055031\n",
       "93238    tt0055031\n",
       "93239    tt0055031\n",
       "93240    tt0055031\n",
       "93241    tt0055031\n",
       "93242    tt0055031\n",
       "93243    tt0055031\n",
       "93244    tt0055031\n",
       "93245    tt0055031\n",
       "93246    tt0055031\n",
       "93247    tt0055031\n",
       "93248    tt0055031\n",
       "Name: tconst, dtype: object"
      ]
     },
     "execution_count": 7,
     "metadata": {},
     "output_type": "execute_result"
    }
   ],
   "source": [
    "# removing extra columns\n",
    "stemmed_full.pop('tconst')\n",
    "reviews_full.pop('tconst')"
   ]
  },
  {
   "cell_type": "markdown",
   "metadata": {},
   "source": [
    "#### 2. Describe anything interesting or suspicious about your data (quality assurance)"
   ]
  },
  {
   "cell_type": "markdown",
   "metadata": {
    "collapsed": true
   },
   "source": [
    "there is nothing inherently suspiscious about the reviews.  We are attempting to predict extremely discrete (as well as interger on a user/user) basis in this project so the degree of accuracy will be highly incorrect most likely. "
   ]
  },
  {
   "cell_type": "markdown",
   "metadata": {
    "collapsed": true
   },
   "source": [
    "#### 3. Make four visualizations of interest to you using the data"
   ]
  },
  {
   "cell_type": "code",
   "execution_count": 11,
   "metadata": {
    "collapsed": false
   },
   "outputs": [
    {
     "data": {
      "text/plain": [
       "<matplotlib.axes._subplots.AxesSubplot at 0x12e2982d0>"
      ]
     },
     "execution_count": 11,
     "metadata": {},
     "output_type": "execute_result"
    },
    {
     "data": {
      "image/png": "[encoded data removed]",
      "text/plain": [
       "<matplotlib.figure.Figure at 0x119fd0b10>"
      ]
     },
     "metadata": {},
     "output_type": "display_data"
    }
   ],
   "source": [
    "# runtime/year\n",
    "sns.regplot(movies['year'], movies['runtime'])\n"
   ]
  },
  {
   "cell_type": "code",
   "execution_count": 12,
   "metadata": {
    "collapsed": false
   },
   "outputs": [
    {
     "data": {
      "image/png": "[encoded data removed]",
      "text/plain": [
       "<matplotlib.figure.Figure at 0x11c5919d0>"
      ]
     },
     "metadata": {},
     "output_type": "display_data"
    }
   ],
   "source": [
    "# barplot of genres:\n",
    "labels = movies['genre'].unique()\n",
    "data = movies['genre'].value_counts()\n",
    "sns.barplot(x=labels, y=data)\n",
    "plt.gcf().set_size_inches(10, 4)"
   ]
  },
  {
   "cell_type": "code",
   "execution_count": 13,
   "metadata": {
    "collapsed": false
   },
   "outputs": [
    {
     "data": {
      "text/plain": [
       "<matplotlib.axes._subplots.AxesSubplot at 0x11d6a5550>"
      ]
     },
     "execution_count": 13,
     "metadata": {},
     "output_type": "execute_result"
    },
    {
     "data": {
      "image/png": "[encoded data removed]",
      "text/plain": [
       "<matplotlib.figure.Figure at 0x104150fd0>"
      ]
     },
     "metadata": {},
     "output_type": "display_data"
    }
   ],
   "source": [
    "# total votes/movies\n",
    "sns.stripplot(data= movies['num_votes'], jitter=True, alpha=.5)"
   ]
  },
  {
   "cell_type": "code",
   "execution_count": 74,
   "metadata": {
    "collapsed": false
   },
   "outputs": [
    {
     "data": {
      "image/png": "[encoded data removed]",
      "text/plain": [
       "<matplotlib.figure.Figure at 0x117302e10>"
      ]
     },
     "metadata": {},
     "output_type": "display_data"
    }
   ],
   "source": [
    "series = pd.DataFrame(movies.groupby(['genre'])['runtime'].mean())\n",
    "labels = list(series.index)\n",
    "\n",
    "pizza = pd.DataFrame((movies.groupby(['genre'])['runtime'].mean()))\n",
    "data = pizza['runtime']\n",
    "sns.barplot(x=labels, y=data)\n",
    "plt.gcf().set_size_inches(10, 4)\n"
   ]
  },
  {
   "cell_type": "markdown",
   "metadata": {},
   "source": [
    "---\n",
    "\n",
    "## Part 5: Decision Tree Classifiers and Regressors"
   ]
  },
  {
   "cell_type": "markdown",
   "metadata": {
    "collapsed": true
   },
   "source": [
    "#### 1. What is our target attribute? \n",
    "\n",
    "I will be attempting to predict the user generated score of a movie based on reviews"
   ]
  },
  {
   "cell_type": "markdown",
   "metadata": {},
   "source": [
    "#### 2. Prepare the X and Y matrices and preprocess data as you see fit"
   ]
  },
  {
   "cell_type": "code",
   "execution_count": 76,
   "metadata": {
    "collapsed": false
   },
   "outputs": [],
   "source": [
    "x = stemmed_full.columns\n",
    "x = x[3:202]\n",
    "\n",
    "genre_dummies = pd.DataFrame(pd.get_dummies(stemmed_full['genre']))\n",
    "genre_columns=genre_dummies.columns\n",
    "stemmed_full = pd.concat([stemmed_full, genre_dummies], axis=1)\n",
    "\n",
    "x_mask = ['10', '2', 'act', 'action', 'actor', 'actual', 'alway', 'amaz',\n",
    "       'american', 'ani', 'anoth', 'anyth', 'audienc', 'away', 'bad',\n",
    "       'batman', 'beauti', 'becaus', 'becom', 'befor', 'begin', 'believ',\n",
    "       'best', 'better', 'big', 'bit', 'book', 'brilliant', 'cast',\n",
    "       'chang', 'charact', 'cinema', 'classic', 'come', 'complet', 'creat',\n",
    "       'dark', 'dark knight', 'day', 'definit', 'did', 'didn', 'didn t',\n",
    "       'differ', 'direct', 'director', 'doe', 'doesn', 'doesn t', 'don',\n",
    "       'don t', 'dream', 'effect', 'emot', 'end', 'enjoy', 'especi',\n",
    "       'everi', 'everyon', 'everyth', 'excel', 'expect', 'face', 'fact',\n",
    "       'famili', 'fan', 'far', 'favorit', 'feel', 'fight', 'film', 'final',\n",
    "       'follow', 'friend', 'good', 'got', 'great', 'greatest', 'guy', 'ha',\n",
    "       'happen', 'hard', 'help', 'hi', 'histori', 'hope', 'hour', 'howev',\n",
    "       'human', 'idea', 'job', 'joker', 'just', 'kill', 'knight', 'know',\n",
    "       'leav', 'let', 'life', 'like', 'line', 'littl', 'live', 'll',\n",
    "       'long', 'look', 'lot', 'love', 'm', 'make', 'man', 'mani',\n",
    "       'masterpiec', 'mean', 'mind', 'minut', 'moment', 'movi', 'movi wa',\n",
    "       'music', 'need', 'new', 'nolan', 'noth', 'old', 'onc', 'onli',\n",
    "       'origin', 'oscar', 'peopl', 'perfect', 'perform', 'person',\n",
    "       'pictur', 'place', 'play', 'plot', 'point', 'power', 'probabl',\n",
    "       'quit', 'rate', 'read', 'real', 'realli', 'reason', 'review',\n",
    "       'right', 'ring', 'role', 's', 'said', 'saw', 'say', 'scene',\n",
    "       'screen', 'second', 'seen', 'sens', 'set', 'shot', 'simpli', 'sinc',\n",
    "       'someth', 'special', 'star', 'start', 'stori', 'sure', 't', 'tell',\n",
    "       'thi', 'thi film', 'thi movi', 'thing', 'think', 'thought', 'time',\n",
    "       'tri', 'true', 'truli', 'turn', 'understand', 'use', 've', 'veri',\n",
    "       'view', 'viewer', 'wa', 'want', 'war', 'watch', 'watch thi', 'way',\n",
    "       'whi', 'wonder', 'word', 'work', 'world', 'runtime', 'year_y', 'Action',\n",
    "       'Adventure', 'Animation', 'Biography', 'Comedy', 'Crime', 'Drama', 'Film-Noir',\n",
    "       'Horror', 'Mystery', 'Western']\n",
    "\n",
    "x2_mask = ['10', '2', 'act', 'action', 'actor', 'actual', 'alway', 'amaz',\n",
    "       'american', 'ani', 'anoth', 'anyth', 'audienc', 'away', 'bad',\n",
    "       'batman', 'beauti', 'becaus', 'becom', 'befor', 'begin', 'believ',\n",
    "       'best', 'better', 'big', 'bit', 'book', 'brilliant', 'cast',\n",
    "       'chang', 'charact', 'cinema', 'classic', 'come', 'complet', 'creat',\n",
    "       'dark', 'dark knight', 'day', 'definit', 'did', 'didn', 'didn t',\n",
    "       'differ', 'direct', 'director', 'doe', 'doesn', 'doesn t', 'don',\n",
    "       'don t', 'dream', 'effect', 'emot', 'end', 'enjoy', 'especi',\n",
    "       'everi', 'everyon', 'everyth', 'excel', 'expect', 'face', 'fact',\n",
    "       'famili', 'fan', 'far', 'favorit', 'feel', 'fight', 'film', 'final',\n",
    "       'follow', 'friend', 'good', 'got', 'great', 'greatest', 'guy', 'ha',\n",
    "       'happen', 'hard', 'help', 'hi', 'histori', 'hope', 'hour', 'howev',\n",
    "       'human', 'idea', 'job', 'joker', 'just', 'kill', 'knight', 'know',\n",
    "       'leav', 'let', 'life', 'like', 'line', 'littl', 'live', 'll',\n",
    "       'long', 'look', 'lot', 'love', 'm', 'make', 'man', 'mani',\n",
    "       'masterpiec', 'mean', 'mind', 'minut', 'moment', 'movi', 'movi wa',\n",
    "       'music', 'need', 'new', 'nolan', 'noth', 'old', 'onc', 'onli',\n",
    "       'origin', 'oscar', 'peopl', 'perfect', 'perform', 'person',\n",
    "       'pictur', 'place', 'play', 'plot', 'point', 'power', 'probabl',\n",
    "       'quit', 'rate', 'read', 'real', 'realli', 'reason', 'review',\n",
    "       'right', 'ring', 'role', 's', 'said', 'saw', 'say', 'scene',\n",
    "       'screen', 'second', 'seen', 'sens', 'set', 'shot', 'simpli', 'sinc',\n",
    "       'someth', 'special', 'star', 'start', 'stori', 'sure', 't', 'tell',\n",
    "       'thi', 'thi film', 'thi movi', 'thing', 'think', 'thought', 'time',\n",
    "       'tri', 'true', 'truli', 'turn', 'understand', 'use', 've', 'veri',\n",
    "       'view', 'viewer', 'wa', 'want', 'war', 'watch', 'watch thi', 'way',\n",
    "       'whi', 'wonder', 'word', 'work', 'world', 'year_y', 'Action',\n",
    "       'Adventure', 'Animation', 'Biography', 'Comedy', 'Crime', 'Drama', 'Film-Noir',\n",
    "       'Horror', 'Mystery', 'Western', 'user_movie_score']\n",
    "\n",
    "# segmenting variables\n",
    "y = stemmed_full['user_movie_score']\n",
    "X = stemmed_full[x_mask]"
   ]
  },
  {
   "cell_type": "markdown",
   "metadata": {},
   "source": [
    "#### 3. Build and cross-validate your decision tree classifier"
   ]
  },
  {
   "cell_type": "code",
   "execution_count": null,
   "metadata": {
    "collapsed": true
   },
   "outputs": [],
   "source": [
    "trees2 = DecisionTreeClassifier()\n",
    "trees2.fit(X, y)\n",
    "cross_val_score(trees2, X, y, cv=5, n_jobs=-1)"
   ]
  },
  {
   "cell_type": "markdown",
   "metadata": {},
   "source": [
    "#### 4. Gridsearch optimal parameters for your classifier. Does the performance improve?"
   ]
  },
  {
   "cell_type": "code",
   "execution_count": null,
   "metadata": {
    "collapsed": true
   },
   "outputs": [],
   "source": [
    "grid_classifier = {'max_depth':depth, 'max_features':x}\n",
    "x = range(1,200,10)\n",
    "depth = [1,2,3,4,5]\n",
    "trees3 = DecisionTreeClassifier()\n",
    "grid = GridSearchCV(trees2, grid_classifier)\n",
    "grid.fit(X,y)\n",
    "grid.best_score_\n",
    "# 0.52544263209256936 is my best accuracy\n",
    "grid.best_params_\n",
    "{'max_depth': 1, 'max_features': 1}"
   ]
  },
  {
   "cell_type": "markdown",
   "metadata": {},
   "source": [
    "the performance does not improve. best_params_ = max_depth:1, max_features:1 which equates to the "
   ]
  },
  {
   "cell_type": "markdown",
   "metadata": {},
   "source": [
    "#### 5. Build and cross-validate your decision tree regressor"
   ]
  },
  {
   "cell_type": "code",
   "execution_count": null,
   "metadata": {
    "collapsed": true
   },
   "outputs": [],
   "source": [
    "# instantiating regressor and cross validating stuff\n",
    "# regressor doesn't work for predicting these.... I ran them initially, but the score is very low\n",
    "trees = DecisionTreeRegressor()\n",
    "trees.fit(X, y)\n",
    "cross_val_score(trees, X, y, cv=5, n_jobs=-1)\n",
    "\n",
    "# regression attempt to predict runtime\n",
    "X2 = stemmed_full[x2_mask]\n",
    "y2 = stemmed_full['runtime']\n",
    "trees4 = DecisionTreeRegressor()\n",
    "trees4.fit(X2, y2)\n",
    "cross_val_score(trees4, X2, y2, cv=5, n_jobs=-1)"
   ]
  },
  {
   "cell_type": "markdown",
   "metadata": {},
   "source": [
    "#### 6. Gridsearch the optimal parameters for your classifier. Does performance improve?"
   ]
  },
  {
   "cell_type": "markdown",
   "metadata": {
    "collapsed": true
   },
   "source": [
    "the performance does not improve at the regressor is attempting to predict an interger value and using a continuous, decimal value to do so (and judges accuracy score based on this)"
   ]
  },
  {
   "cell_type": "markdown",
   "metadata": {},
   "source": [
    "---\n",
    "\n",
    "## Part 7: Bagging and Boosting: Random Forests, Extra Trees, and AdaBoost"
   ]
  },
  {
   "cell_type": "markdown",
   "metadata": {},
   "source": [
    "#### 1. Load the random forest regressor, extra trees regressor, and adaboost regressor from sklearn"
   ]
  },
  {
   "cell_type": "code",
   "execution_count": 78,
   "metadata": {
    "collapsed": true
   },
   "outputs": [],
   "source": [
    "from sklearn.tree import DecisionTreeClassifier\n",
    "from sklearn.ensemble import BaggingClassifier, AdaBoostClassifier, ExtraTreesClassifier"
   ]
  },
  {
   "cell_type": "markdown",
   "metadata": {},
   "source": [
    "#### 2. Gridsearch optimal parameters for the three different ensemble methods."
   ]
  },
  {
   "cell_type": "code",
   "execution_count": null,
   "metadata": {
    "collapsed": true
   },
   "outputs": [],
   "source": [
    "# train test split to get accuracy score for classification models\n",
    "X_train, X_test, y_train, y_test = train_test_split(X, y)\n",
    "\n"
   ]
  },
  {
   "cell_type": "markdown",
   "metadata": {},
   "source": [
    "#### 3. Evaluate the performance of the two bagging and one boosting model. Which performs best?"
   ]
  },
  {
   "cell_type": "code",
   "execution_count": 80,
   "metadata": {
    "collapsed": true
   },
   "outputs": [],
   "source": [
    "# function to help do crossvalidaton\n",
    "\n",
    "def do_cross_val(model, X, y):\n",
    "    scores = cross_val_score(model, X, y, cv=5, n_jobs=-1, verbose=1)\n",
    "    return scores.mean(), scores.std()"
   ]
  },
  {
   "cell_type": "code",
   "execution_count": null,
   "metadata": {
    "collapsed": true
   },
   "outputs": [],
   "source": [
    "# cross val scores with a bagging/decision tree classifier\n",
    "bdt = BaggingClassifier()\n",
    "do_cross_val(bdt)\n",
    "# best score is :(0.38116005470351122, std:0.052192121705746754)\n",
    "\n",
    "\n",
    "# adaboost classifer with cross cal\n",
    "ada = AdaBoostClassifier()\n",
    "do_cross_val(ada, X, y)\n",
    "# best score with adaboost - (0.51081392284531635, std:0.024275400766445469)\n",
    "\n",
    "#verifying the score with adaboost is not a \"node\"\n",
    "ada.fit(X,y)\n",
    "pd.DataFrame(ada.predict_proba(X_test))\n",
    "\n",
    "# Extra Trees\n",
    "x_trees = ExtraTreesClassifier()\n",
    "do_cross_val(x_trees, X, y)\n",
    "# Extra trees best score - (0.43864060302745989, std:0.036794626953118421)"
   ]
  },
  {
   "cell_type": "code",
   "execution_count": 84,
   "metadata": {
    "collapsed": false
   },
   "outputs": [
    {
     "name": "stderr",
     "output_type": "stream",
     "text": [
      "[Parallel(n_jobs=-1)]: Done   5 out of   5 | elapsed:   22.8s finished\n"
     ]
    },
    {
     "data": {
      "text/plain": [
       "(0.44489289568442103, 0.036088026055851645)"
      ]
     },
     "execution_count": 84,
     "metadata": {},
     "output_type": "execute_result"
    }
   ],
   "source": [
    "# Random Forest Classification with crossval\n",
    "forest = RandomForestClassifier()\n",
    "do_cross_val(forest, X, y)\n",
    "forest.fit(X,y)\n",
    "\n",
    "#random forrest classifier best score - (0.45703255495422573, std: 0.027952293163319378)"
   ]
  },
  {
   "cell_type": "markdown",
   "metadata": {},
   "source": [
    "#### 4. Extract the feature importances from the Random Forest regressor and make a DataFrame pairing variable names with their variable importances. \n"
   ]
  },
  {
   "cell_type": "code",
   "execution_count": 103,
   "metadata": {
    "collapsed": false
   },
   "outputs": [],
   "source": [
    "importance = pd.DataFrame({\"Features\": X.columns.values, 'model_importance (multiplied by 1000)':forest.feature_importances_})\n",
    "\n",
    "importance['model_importance (multiplied by 1000)'] = importance['model_importance (multiplied by 1000)'].apply(lambda x: x*1000)\n",
    "importance = importance.sort_values(by ='model_importance (multiplied by 1000)', ascending=False)\n"
   ]
  },
  {
   "cell_type": "markdown",
   "metadata": {},
   "source": [
    "#### 5. Plot the ranked feature importances."
   ]
  },
  {
   "cell_type": "code",
   "execution_count": 104,
   "metadata": {
    "collapsed": false
   },
   "outputs": [
    {
     "data": {
      "image/png": "[encoded data removed]",
      "text/plain": [
       "<matplotlib.figure.Figure at 0x12f43a910>"
      ]
     },
     "metadata": {},
     "output_type": "display_data"
    }
   ],
   "source": [
    "x_plot = range(len(importance['Features']))\n",
    "plt.figure(figsize = (20, 15))\n",
    "plt.xticks(x_plot, importance['Features'], rotation = 90)\n",
    "\n",
    "plt.bar(x_plot, importance['model_importance (multiplied by 1000)'])\n",
    "plt.show()"
   ]
  }
 ],
 "metadata": {
  "kernelspec": {
   "display_name": "Python 2",
   "language": "python",
   "name": "python2"
  },
  "language_info": {
   "codemirror_mode": {
    "name": "ipython",
    "version": 2
   },
   "file_extension": ".py",
   "mimetype": "text/x-python",
   "name": "python",
   "nbconvert_exporter": "python",
   "pygments_lexer": "ipython2",
   "version": "2.7.11"
  },
  "widgets": {
   "state": {},
   "version": "1.1.0"
  }
 },
 "nbformat": 4,
 "nbformat_minor": 0
}
